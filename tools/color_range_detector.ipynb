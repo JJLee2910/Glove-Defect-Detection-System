{
 "cells": [
  {
   "cell_type": "code",
   "execution_count": 3,
   "metadata": {},
   "outputs": [],
   "source": [
    "import cv2\n",
    "import numpy as np\n",
    "\n",
    "def on_mouse(event, x, y, flags, param):\n",
    "    if event == cv2.EVENT_LBUTTONDOWN:\n",
    "        pixel = hsv_image[y, x]\n",
    "        print(f'H: {pixel[0]}, S: {pixel[1]}, V: {pixel[2]}')\n",
    "\n",
    "image_path = 'C:\\\\Users\\\\jangj\\\\OneDrive\\\\Desktop\\\\Glove-Defect-Detection-System\\\\Images\\\\Latex\\\\Dirt.jpg'\n",
    "\n",
    "# Read the image\n",
    "image = cv2.imread(image_path)\n",
    "\n",
    "# Check if the image is empty\n",
    "if image is None:\n",
    "    print(f\"Error loading the image from path: {image_path}\")\n",
    "    exit()\n",
    "\n",
    "# Resize the image\n",
    "# resized_img = cv2.resize(image, (0, 0), fx=0.2, fy=0.2)\n",
    "\n",
    "# Check if the resized image is empty\n",
    "if image is None:\n",
    "    print(\"Error resizing the image.\")\n",
    "    exit()\n",
    "\n",
    "# Convert the image from BGR to HSV color space\n",
    "hsv_image = cv2.cvtColor(image, cv2.COLOR_BGR2HSV)\n",
    "\n",
    "# Create a window and set the callback function for mouse events\n",
    "cv2.namedWindow('Image')\n",
    "cv2.setMouseCallback('Image', on_mouse)\n",
    "\n",
    "while True:\n",
    "    cv2.imshow('Image', image)\n",
    "    key = cv2.waitKey(1) & 0xFF\n",
    "    \n",
    "    # Press 'ESC' to exit the loop\n",
    "    if key == 27:\n",
    "        break\n",
    "\n",
    "cv2.destroyAllWindows()\n"
   ]
  }
 ],
 "metadata": {
  "kernelspec": {
   "display_name": "JJ",
   "language": "python",
   "name": "python3"
  },
  "language_info": {
   "codemirror_mode": {
    "name": "ipython",
    "version": 3
   },
   "file_extension": ".py",
   "mimetype": "text/x-python",
   "name": "python",
   "nbconvert_exporter": "python",
   "pygments_lexer": "ipython3",
   "version": "3.10.6"
  }
 },
 "nbformat": 4,
 "nbformat_minor": 2
}
